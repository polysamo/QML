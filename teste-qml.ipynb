{
 "cells": [
  {
   "cell_type": "code",
   "execution_count": null,
   "metadata": {},
   "outputs": [],
   "source": [
    "import random\n",
    "from quantumnet.components import Network, Host\n",
    "from quantumnet.components import ServerNode, ClientNode, RegularNode\n",
    "from quantumnet.objects import Qubit, Logger\n",
    "import pennylane as qml\n",
    "from pennylane import numpy as np\n",
    "import torch\n",
    "from matplotlib import pyplot as plt"
   ]
  },
  {
   "cell_type": "code",
   "execution_count": null,
   "metadata": {},
   "outputs": [],
   "source": [
    "rede = Network()\n",
    "rede.set_ready_topology('grade',8,3,3)  # Exemplo de uma grade 3x3 com  clientes e 1 servidor\n",
    "rede.draw()\n",
    "Logger.activate(Logger)"
   ]
  },
  {
   "cell_type": "code",
   "execution_count": null,
   "metadata": {},
   "outputs": [],
   "source": []
  },
  {
   "cell_type": "code",
   "execution_count": null,
   "metadata": {},
   "outputs": [],
   "source": [
    "quantum_circuit, num_qubits, circuit_depth = rede.generate_random_circuit(num_qubits=20, num_gates=20)\n",
    "rede.application_layer.run_app(\"AC_BQC\", alice_id=6, bob_id=0, num_qubits=10,scenario=1,circuit_depth=circuit_depth)"
   ]
  }
 ],
 "metadata": {
  "kernelspec": {
   "display_name": "qmlenv",
   "language": "python",
   "name": "python3"
  },
  "language_info": {
   "name": "python",
   "version": "3.11.4"
  }
 },
 "nbformat": 4,
 "nbformat_minor": 2
}
